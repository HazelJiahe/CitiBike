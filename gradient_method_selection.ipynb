{
 "cells": [
  {
   "cell_type": "code",
   "execution_count": 1,
   "metadata": {},
   "outputs": [],
   "source": [
    "import simulation_record_charging_amount_751_1\n",
    "from datetime import timedelta as td\n",
    "from datetime import datetime as time\n",
    "import pandas as pd\n",
    "import numpy as np\n",
    "import pickle"
   ]
  },
  {
   "cell_type": "code",
   "execution_count": 2,
   "metadata": {},
   "outputs": [
    {
     "name": "stdout",
     "output_type": "stream",
     "text": [
      "the total number of ebikes: 11051\n",
      "the total number of regular bikes: 0\n",
      "2017-07-01 06:00:01.005679 0\n",
      "2017-07-08 06:00:01.737806 1\n",
      "2017-07-15 06:00:01.744434 2\n",
      "2017-07-22 06:00:02.855804 3\n",
      "2017-07-29 06:00:01.329994 4\n",
      "2017-08-05 06:00:01.525286 5\n",
      "2017-08-12 06:00:03.063485 6\n",
      "2017-08-19 06:00:00.264223 7\n",
      "2017-08-26 06:00:00.430995 8\n",
      "2017-09-02 06:00:02.018839 9\n",
      "2017-09-09 06:00:03.952528 10\n",
      "2017-09-16 06:00:01.065072 11\n",
      "2017-09-23 06:00:00.248393 12\n",
      "2017-09-30 06:00:03.172397 13\n",
      "2017-10-07 06:00:00.635320 14\n",
      "2017-10-14 06:00:04.158294 15\n"
     ]
    }
   ],
   "source": [
    "start_time = time(2017,7,1,hour= 6)\n",
    "end_time=start_time+ td(weeks=15)\n",
    "estations = [3254, 3267, 3199, 3202, 3276, 3192, 3186, 3183, 3213, 3072, 3178, 3290, 491, 3285, 3314, 411, 3165, 3205, 383, 527, 3357, 347, 474, 484, 504, 3244, 2021, 3282, 528, 529, 2008, 531, 518, 3383, 3427, 3443, 3137, 3139, 3156, 426, 3436, 3372, 3376, 3184, 363, 3134, 3163, 3283, 3286, 444, 472, 3293, 3295, 281, 514, 402, 3132, 285, 3164, 435, 423, 486, 3173, 3224, 537, 3056, 365, 252, 3146, 359, 387, 388, 405, 410, 3203, 152, 284, 434, 3129, 3151, 3323, 328, 490, 280, 540, 146, 3349, 3366, 3367, 3162, 3336, 3167, 503, 507, 315, 3150, 319, 229, 238, 442, 3226, 327, 446, 479, 499, 508, 513, 316, 335, 3145, 173, 3258, 127, 305, 309, 223, 356, 3320, 128, 296, 433, 3306, 3307, 3308, 3310, 2000, 3312, 3315, 2002, 3318, 2003, 3321, 3328, 3329, 3331, 2006, 432, 3297, 3298, 3346, 3303, 3351, 3356, 3304, 3358, 3360, 3361, 3362, 3370, 3311, 340, 421, 422, 427, 430, 336, 539, 545, 3319, 546, 428, 523, 251, 397, 3148, 3288, 3158, 419, 420, 3294, 332, 249, 396, 3141, 3142, 3292, 3263, 536, 248, 3289, 3259, 3260, 395, 3428, 3136, 3429, 3434, 3435, 3373, 3438, 3378, 3440, 3423, 3447, 3449, 3453, 3382, 3454, 3457, 3459, 3461, 3462, 3463, 3464, 3466, 519, 497, 459, 358, 3002, 368, 3256, 151, 293, 382, 168, 3255, 505, 477, 3374, 379, 457, 509, 458, 462]\n",
    "initial_stations=eval(open((\"steady_states_751/steady_ebikes_initial_0.5.txt\")).read())\n",
    "for station in initial_stations.keys():\n",
    "    if station in estations:\n",
    "        initial_stations[station]['edock'] = initial_stations[station]['ecap']\n",
    "    else:\n",
    "        initial_stations[station]['edock'] = 0\n",
    "gc=simulation_record_charging_amount_751_1.GlobalClock(start_time,end_time,initial_stations)\n",
    "gc.clockAdvance() "
   ]
  },
  {
   "cell_type": "code",
   "execution_count": 4,
   "metadata": {},
   "outputs": [],
   "source": [
    "cycle_time = td(days = 7)\n",
    "initial_stations=eval(open(\"steady_states_751/steady_ebikes_initial_0.5.txt\").read())"
   ]
  },
  {
   "cell_type": "code",
   "execution_count": 5,
   "metadata": {
    "collapsed": true
   },
   "outputs": [
    {
     "name": "stdout",
     "output_type": "stream",
     "text": [
      "2017-10-21 06:00:04.282021 16\n",
      "2017-10-28 06:00:04.571424 17\n",
      "2017-11-04 06:00:00.066952 18\n",
      "2017-11-11 06:00:01.131771 19\n",
      "2017-11-18 06:00:01.077111 20\n",
      "2160.869415805335 2934269.8459608005 True\n",
      "248 3016\n",
      "2017-11-25 06:00:00.062874 21\n",
      "2017-12-02 06:00:02.711070 22\n",
      "2017-12-09 06:00:00.525378 23\n",
      "2017-12-16 06:00:06.271210 24\n",
      "2017-12-23 06:00:00.367694 25\n",
      "2196.504756130539 2359654.2170281736 True\n",
      "421 217\n",
      "2017-12-30 06:00:00.167987 26\n",
      "2018-01-06 06:00:01.355662 27\n",
      "2018-01-13 06:00:01.141032 28\n",
      "2018-01-20 06:00:00.667130 29\n",
      "2018-01-27 06:00:02.855454 30\n",
      "2321.6715172488275 1471955.8529803357 True\n",
      "3356 324\n",
      "2018-02-03 06:00:00.224626 31\n",
      "2018-02-10 06:00:02.070910 32\n",
      "2018-02-17 06:00:00.908408 33\n",
      "2018-02-24 06:00:00.454088 34\n",
      "2018-03-03 06:00:06.385785 35\n",
      "2212.513501310998 1648137.4226547813 True\n",
      "3370 83\n",
      "2018-03-10 06:00:03.262300 36\n",
      "2018-03-17 06:00:01.471252 37\n",
      "2018-03-24 06:00:08.590985 38\n",
      "2018-03-31 06:00:00.910473 39\n",
      "2018-04-07 06:00:00.330450 40\n",
      "2316.661282630668 1246332.3251945712 True\n",
      "3213 237\n",
      "2018-04-14 06:00:00.712407 41\n",
      "2018-04-21 06:00:00.341645 42\n",
      "2018-04-28 06:00:03.389908 43\n",
      "2018-05-05 06:00:00.072458 44\n",
      "2018-05-12 06:00:02.850086 45\n",
      "1825.1803667140184 1561585.1183853718 True\n",
      "420 3409\n",
      "2018-05-19 06:00:00.126688 46\n",
      "2018-05-26 06:00:02.466449 47\n",
      "2018-06-02 06:00:00.572798 48\n",
      "2018-06-09 06:00:00.537424 49\n",
      "2018-06-16 06:00:01.510926 50\n",
      "2375.3038700999605 1254159.9983476955 True\n",
      "3294 3093\n",
      "[3254, 3267, 3199, 3202, 3276, 3192, 3186, 3183, 3072, 3178, 3290, 491, 3285, 3314, 411, 3165, 3205, 383, 527, 3357, 347, 474, 484, 504, 3244, 2021, 3282, 528, 529, 2008, 531, 518, 3383, 3427, 3443, 3137, 3139, 3156, 426, 3436, 3372, 3376, 3184, 363, 3134, 3163, 3283, 3286, 444, 472, 3293, 3295, 281, 514, 402, 3132, 285, 3164, 435, 423, 486, 3173, 3224, 537, 3056, 365, 252, 3146, 359, 387, 388, 405, 410, 3203, 152, 284, 434, 3129, 3151, 3323, 328, 490, 280, 540, 146, 3349, 3366, 3367, 3162, 3336, 3167, 503, 507, 315, 3150, 319, 229, 238, 442, 3226, 327, 446, 479, 499, 508, 513, 316, 335, 3145, 173, 3258, 127, 305, 309, 223, 356, 3320, 128, 296, 433, 3306, 3307, 3308, 3310, 2000, 3312, 3315, 2002, 3318, 2003, 3321, 3328, 3329, 3331, 2006, 432, 3297, 3298, 3346, 3303, 3351, 3304, 3358, 3360, 3361, 3362, 3311, 340, 422, 427, 430, 336, 539, 545, 3319, 546, 428, 523, 251, 397, 3148, 3288, 3158, 419, 332, 249, 396, 3141, 3142, 3292, 3263, 536, 3289, 3259, 3260, 395, 3428, 3136, 3429, 3434, 3435, 3373, 3438, 3378, 3440, 3423, 3447, 3449, 3453, 3382, 3454, 3457, 3459, 3461, 3462, 3463, 3464, 3466, 519, 497, 459, 358, 3002, 368, 3256, 151, 293, 382, 168, 3255, 505, 477, 3374, 379, 457, 509, 458, 462, 3016, 217, 324, 83, 237, 3409, 3093]\n"
     ]
    }
   ],
   "source": [
    "#10 swaps for gradient method\n",
    "for iteration in range(7):\n",
    "    for i in range(5):\n",
    "        gc.clear_charging_info()\n",
    "        gc.end_time = gc.end_time + cycle_time\n",
    "        gc.clockAdvance()\n",
    "    #performance.append(gc.week_out_of_battery_duration[5*(iteration+1)-1])\n",
    "    e_station_SOC = {}\n",
    "    station_SOC = {}\n",
    "    for sta in gc.stations.keys():\n",
    "        if gc.stations[sta].edock > 0:\n",
    "            e_station_SOC[sta] = gc.stations[sta].charging_amount\n",
    "        else:\n",
    "            station_SOC[sta] = gc.stations[sta].charging_amount\n",
    "    #est_gradient.append(dict(e_station_SOC))\n",
    "    #st_gradient.append(dict(station_SOC))\n",
    "    sorted_e_station_SOC = sorted(e_station_SOC.items(),key=lambda kv: kv[1],reverse=False)\n",
    "    sorted_station_SOC = sorted(station_SOC.items(),key=lambda kv: kv[1],reverse=True)\n",
    "    print (str(sorted_e_station_SOC[0][1]),str(sorted_station_SOC[0][1]),str(sorted_e_station_SOC[0][1]<sorted_station_SOC[0][1]))\n",
    "    estations.remove(sorted_e_station_SOC[0][0])\n",
    "    estations.append(sorted_station_SOC[0][0])\n",
    "    print(str(sorted_e_station_SOC[0][0]),str(sorted_station_SOC[0][0]))\n",
    "    for station in initial_stations.keys():\n",
    "        gc.stations[station].edock = 0\n",
    "    for station in estations:\n",
    "        gc.stations[station].edock = initial_stations[station]['ecap']   \n",
    "print(estations)"
   ]
  },
  {
   "cell_type": "code",
   "execution_count": 7,
   "metadata": {},
   "outputs": [],
   "source": [
    "afile = open('6_swaps_outOfBattery.pickle', 'wb')\n",
    "pickle.dump(gc, afile)\n",
    "afile.close()"
   ]
  },
  {
   "cell_type": "code",
   "execution_count": 38,
   "metadata": {},
   "outputs": [],
   "source": [
    "file = open('10swap.pickle', 'rb')\n",
    "gc = pickle.load(file)\n",
    "file.close()"
   ]
  },
  {
   "cell_type": "code",
   "execution_count": 39,
   "metadata": {
    "collapsed": true
   },
   "outputs": [
    {
     "data": {
      "text/plain": [
       "[83,\n",
       " 127,\n",
       " 128,\n",
       " 146,\n",
       " 151,\n",
       " 152,\n",
       " 168,\n",
       " 173,\n",
       " 217,\n",
       " 223,\n",
       " 229,\n",
       " 237,\n",
       " 238,\n",
       " 249,\n",
       " 251,\n",
       " 252,\n",
       " 280,\n",
       " 281,\n",
       " 284,\n",
       " 285,\n",
       " 293,\n",
       " 296,\n",
       " 305,\n",
       " 309,\n",
       " 315,\n",
       " 316,\n",
       " 319,\n",
       " 324,\n",
       " 327,\n",
       " 328,\n",
       " 332,\n",
       " 335,\n",
       " 336,\n",
       " 340,\n",
       " 347,\n",
       " 356,\n",
       " 358,\n",
       " 359,\n",
       " 363,\n",
       " 365,\n",
       " 368,\n",
       " 379,\n",
       " 382,\n",
       " 383,\n",
       " 387,\n",
       " 388,\n",
       " 395,\n",
       " 396,\n",
       " 397,\n",
       " 401,\n",
       " 402,\n",
       " 405,\n",
       " 410,\n",
       " 411,\n",
       " 419,\n",
       " 422,\n",
       " 423,\n",
       " 426,\n",
       " 427,\n",
       " 428,\n",
       " 430,\n",
       " 432,\n",
       " 433,\n",
       " 434,\n",
       " 435,\n",
       " 442,\n",
       " 444,\n",
       " 446,\n",
       " 457,\n",
       " 458,\n",
       " 459,\n",
       " 462,\n",
       " 472,\n",
       " 474,\n",
       " 477,\n",
       " 479,\n",
       " 484,\n",
       " 486,\n",
       " 490,\n",
       " 491,\n",
       " 497,\n",
       " 499,\n",
       " 503,\n",
       " 504,\n",
       " 505,\n",
       " 507,\n",
       " 508,\n",
       " 509,\n",
       " 513,\n",
       " 514,\n",
       " 518,\n",
       " 519,\n",
       " 523,\n",
       " 527,\n",
       " 528,\n",
       " 529,\n",
       " 531,\n",
       " 536,\n",
       " 537,\n",
       " 539,\n",
       " 540,\n",
       " 545,\n",
       " 546,\n",
       " 2000,\n",
       " 2002,\n",
       " 2003,\n",
       " 2006,\n",
       " 2008,\n",
       " 2021,\n",
       " 3002,\n",
       " 3016,\n",
       " 3056,\n",
       " 3093,\n",
       " 3107,\n",
       " 3112,\n",
       " 3129,\n",
       " 3132,\n",
       " 3134,\n",
       " 3136,\n",
       " 3137,\n",
       " 3139,\n",
       " 3141,\n",
       " 3142,\n",
       " 3145,\n",
       " 3146,\n",
       " 3148,\n",
       " 3150,\n",
       " 3151,\n",
       " 3156,\n",
       " 3158,\n",
       " 3162,\n",
       " 3163,\n",
       " 3164,\n",
       " 3165,\n",
       " 3167,\n",
       " 3173,\n",
       " 3178,\n",
       " 3183,\n",
       " 3184,\n",
       " 3186,\n",
       " 3192,\n",
       " 3199,\n",
       " 3202,\n",
       " 3203,\n",
       " 3205,\n",
       " 3224,\n",
       " 3226,\n",
       " 3244,\n",
       " 3254,\n",
       " 3255,\n",
       " 3256,\n",
       " 3258,\n",
       " 3259,\n",
       " 3260,\n",
       " 3263,\n",
       " 3267,\n",
       " 3276,\n",
       " 3282,\n",
       " 3283,\n",
       " 3285,\n",
       " 3286,\n",
       " 3288,\n",
       " 3289,\n",
       " 3290,\n",
       " 3292,\n",
       " 3293,\n",
       " 3295,\n",
       " 3298,\n",
       " 3303,\n",
       " 3304,\n",
       " 3306,\n",
       " 3307,\n",
       " 3308,\n",
       " 3310,\n",
       " 3311,\n",
       " 3312,\n",
       " 3314,\n",
       " 3315,\n",
       " 3318,\n",
       " 3319,\n",
       " 3320,\n",
       " 3321,\n",
       " 3323,\n",
       " 3328,\n",
       " 3329,\n",
       " 3331,\n",
       " 3336,\n",
       " 3346,\n",
       " 3349,\n",
       " 3351,\n",
       " 3357,\n",
       " 3358,\n",
       " 3360,\n",
       " 3361,\n",
       " 3362,\n",
       " 3366,\n",
       " 3367,\n",
       " 3372,\n",
       " 3373,\n",
       " 3374,\n",
       " 3376,\n",
       " 3378,\n",
       " 3382,\n",
       " 3383,\n",
       " 3409,\n",
       " 3423,\n",
       " 3427,\n",
       " 3428,\n",
       " 3429,\n",
       " 3434,\n",
       " 3435,\n",
       " 3436,\n",
       " 3438,\n",
       " 3440,\n",
       " 3443,\n",
       " 3447,\n",
       " 3453,\n",
       " 3454,\n",
       " 3457,\n",
       " 3459,\n",
       " 3461,\n",
       " 3462,\n",
       " 3463,\n",
       " 3464,\n",
       " 3466]"
      ]
     },
     "execution_count": 39,
     "metadata": {},
     "output_type": "execute_result"
    }
   ],
   "source": [
    "estations = []\n",
    "for st in gc.stations.keys():\n",
    "    if gc.stations[st].edock > 0:\n",
    "        estations.append(st)\n",
    "estations"
   ]
  },
  {
   "cell_type": "code",
   "execution_count": 11,
   "metadata": {},
   "outputs": [],
   "source": [
    "length = len(gc.week_out_of_battery_duration.keys())"
   ]
  },
  {
   "cell_type": "code",
   "execution_count": 12,
   "metadata": {},
   "outputs": [
    {
     "data": {
      "text/plain": [
       "67"
      ]
     },
     "execution_count": 12,
     "metadata": {},
     "output_type": "execute_result"
    }
   ],
   "source": [
    "length"
   ]
  },
  {
   "cell_type": "code",
   "execution_count": 6,
   "metadata": {},
   "outputs": [],
   "source": [
    "import matplotlib.pyplot as plt"
   ]
  },
  {
   "cell_type": "code",
   "execution_count": 14,
   "metadata": {
    "collapsed": true
   },
   "outputs": [
    {
     "data": {
      "text/plain": [
       "[0,\n",
       " 732820.8054747904,\n",
       " 1614685.739066584,\n",
       " 1386921.9546737545,\n",
       " 1757461.4791895049,\n",
       " 1908263.628324314,\n",
       " 2562294.070164594,\n",
       " 2569868.988722531,\n",
       " 1791636.1278869137,\n",
       " 4075902.908855967,\n",
       " 2617780.120129157,\n",
       " 2415049.91974698,\n",
       " 2031897.8384866267,\n",
       " 2230886.8176450245,\n",
       " 1992226.7698854916,\n",
       " 1873642.8462564535,\n",
       " 2145439.1159321293,\n",
       " 3394353.358812079,\n",
       " 2591123.1885061935,\n",
       " 4975132.72375346,\n",
       " 3692582.0174183995,\n",
       " 3260446.891628824,\n",
       " 2579963.485807419,\n",
       " 1626867.5436395854,\n",
       " 2090388.8416403309,\n",
       " 2465796.454964258,\n",
       " 2229633.2178659514,\n",
       " 1593501.3094696552,\n",
       " 1233322.2366469651,\n",
       " 2063999.4384459853,\n",
       " 4436920.364381969,\n",
       " 1619466.7394911647,\n",
       " 2936315.2389176786,\n",
       " 1551498.9465539455,\n",
       " 1864072.250748679,\n",
       " 2464171.4853966385,\n",
       " 2893476.0030902773,\n",
       " 2309543.5784630924,\n",
       " 1642898.4604717195,\n",
       " 1695941.1193241775,\n",
       " 3097492.2098169625,\n",
       " 1558972.3184905946,\n",
       " 3545654.7350037694,\n",
       " 1926017.6835122854,\n",
       " 3457313.2267710418,\n",
       " 2796230.961872235,\n",
       " 3382245.2974028587,\n",
       " 4269310.751011014,\n",
       " 3132762.5095471144,\n",
       " 3147557.539887637,\n",
       " 3244171.797239363,\n",
       " 1542468.5040407032,\n",
       " 3571187.13180317,\n",
       " 1997574.2311772108,\n",
       " 3571905.6936293095,\n",
       " 2692974.4992464483,\n",
       " 2071637.0357594788,\n",
       " 3370267.413685173,\n",
       " 2217487.431155324,\n",
       " 2241766.8411031067,\n",
       " 2468561.3763288856,\n",
       " 1399163.223617524,\n",
       " 3023375.5695436,\n",
       " 2873524.418825239,\n",
       " 1863236.1449832022,\n",
       " 2497129.7483742833]"
      ]
     },
     "execution_count": 14,
     "metadata": {},
     "output_type": "execute_result"
    }
   ],
   "source": [
    "durations = []\n",
    "i = 1\n",
    "while (i < length):\n",
    "    durations.append(gc.week_out_of_battery_duration[i])\n",
    "    i += 1\n",
    "durations"
   ]
  },
  {
   "cell_type": "code",
   "execution_count": 22,
   "metadata": {},
   "outputs": [
    {
     "data": {
      "text/plain": [
       "[<matplotlib.lines.Line2D at 0x13b3717b8>]"
      ]
     },
     "execution_count": 22,
     "metadata": {},
     "output_type": "execute_result"
    },
    {
     "data": {
      "image/png": "[encoded data removed]",
      "text/plain": [
       "<Figure size 432x288 with 1 Axes>"
      ]
     },
     "metadata": {},
     "output_type": "display_data"
    }
   ],
   "source": [
    "plt.plot(durations,'r')\n",
    "plt.plot(events,'b')"
   ]
  },
  {
   "cell_type": "code",
   "execution_count": 16,
   "metadata": {
    "collapsed": true
   },
   "outputs": [
    {
     "data": {
      "text/plain": [
       "{0: 0,\n",
       " 1: 0,\n",
       " 2: 262,\n",
       " 3: 436,\n",
       " 4: 634,\n",
       " 5: 864,\n",
       " 6: 650,\n",
       " 7: 1145,\n",
       " 8: 1248,\n",
       " 9: 1162,\n",
       " 10: 1158,\n",
       " 11: 1185,\n",
       " 12: 1239,\n",
       " 13: 1328,\n",
       " 14: 1544,\n",
       " 15: 1401,\n",
       " 16: 1489,\n",
       " 17: 1468,\n",
       " 18: 1289,\n",
       " 19: 1374,\n",
       " 20: 1364,\n",
       " 21: 1287,\n",
       " 22: 1166,\n",
       " 23: 1356,\n",
       " 24: 1071,\n",
       " 25: 999,\n",
       " 26: 1098,\n",
       " 27: 1080,\n",
       " 28: 1078,\n",
       " 29: 907,\n",
       " 30: 1013,\n",
       " 31: 1109,\n",
       " 32: 1001,\n",
       " 33: 1014,\n",
       " 34: 1012,\n",
       " 35: 1000,\n",
       " 36: 1106,\n",
       " 37: 929,\n",
       " 38: 941,\n",
       " 39: 896,\n",
       " 40: 831,\n",
       " 41: 841,\n",
       " 42: 858,\n",
       " 43: 948,\n",
       " 44: 1204,\n",
       " 45: 1044,\n",
       " 46: 1181,\n",
       " 47: 1095,\n",
       " 48: 877,\n",
       " 49: 904,\n",
       " 50: 782,\n",
       " 51: 1027,\n",
       " 52: 813,\n",
       " 53: 921,\n",
       " 54: 837,\n",
       " 55: 873,\n",
       " 56: 814,\n",
       " 57: 822,\n",
       " 58: 1047,\n",
       " 59: 879,\n",
       " 60: 838,\n",
       " 61: 856,\n",
       " 62: 772,\n",
       " 63: 771,\n",
       " 64: 831,\n",
       " 65: 930,\n",
       " 66: 806}"
      ]
     },
     "execution_count": 16,
     "metadata": {},
     "output_type": "execute_result"
    }
   ],
   "source": [
    "gc.week_out_of_battery"
   ]
  },
  {
   "cell_type": "code",
   "execution_count": 20,
   "metadata": {
    "collapsed": true
   },
   "outputs": [
    {
     "data": {
      "text/plain": [
       "[0,\n",
       " 262,\n",
       " 436,\n",
       " 634,\n",
       " 864,\n",
       " 650,\n",
       " 1145,\n",
       " 1248,\n",
       " 1162,\n",
       " 1158,\n",
       " 1185,\n",
       " 1239,\n",
       " 1328,\n",
       " 1544,\n",
       " 1401,\n",
       " 1489,\n",
       " 1468,\n",
       " 1289,\n",
       " 1374,\n",
       " 1364,\n",
       " 1287,\n",
       " 1166,\n",
       " 1356,\n",
       " 1071,\n",
       " 999,\n",
       " 1098,\n",
       " 1080,\n",
       " 1078,\n",
       " 907,\n",
       " 1013,\n",
       " 1109,\n",
       " 1001,\n",
       " 1014,\n",
       " 1012,\n",
       " 1000,\n",
       " 1106,\n",
       " 929,\n",
       " 941,\n",
       " 896,\n",
       " 831,\n",
       " 841,\n",
       " 858,\n",
       " 948,\n",
       " 1204,\n",
       " 1044,\n",
       " 1181,\n",
       " 1095,\n",
       " 877,\n",
       " 904,\n",
       " 782,\n",
       " 1027,\n",
       " 813,\n",
       " 921,\n",
       " 837,\n",
       " 873,\n",
       " 814,\n",
       " 822,\n",
       " 1047,\n",
       " 879,\n",
       " 838,\n",
       " 856,\n",
       " 772,\n",
       " 771,\n",
       " 831,\n",
       " 930,\n",
       " 806]"
      ]
     },
     "execution_count": 20,
     "metadata": {},
     "output_type": "execute_result"
    }
   ],
   "source": [
    "events = []\n",
    "i = 1\n",
    "while (i < length):\n",
    "    events.append(gc.week_out_of_battery[i])\n",
    "    i += 1\n",
    "events"
   ]
  },
  {
   "cell_type": "code",
   "execution_count": 21,
   "metadata": {},
   "outputs": [
    {
     "data": {
      "text/plain": [
       "[<matplotlib.lines.Line2D at 0x13b2c9a90>]"
      ]
     },
     "execution_count": 21,
     "metadata": {},
     "output_type": "execute_result"
    },
    {
     "data": {
      "image/png": "[encoded data removed]",
      "text/plain": [
       "<Figure size 432x288 with 1 Axes>"
      ]
     },
     "metadata": {},
     "output_type": "display_data"
    }
   ],
   "source": [
    "plt.plot(events)"
   ]
  },
  {
   "cell_type": "code",
   "execution_count": 40,
   "metadata": {},
   "outputs": [],
   "source": [
    "cycle_time = td(days = 7)"
   ]
  },
  {
   "cell_type": "code",
   "execution_count": 41,
   "metadata": {},
   "outputs": [],
   "source": [
    "initial_stations=eval(open(\"steady_states_751/steady_ebikes_initial_0.5.txt\").read())"
   ]
  },
  {
   "cell_type": "code",
   "execution_count": 42,
   "metadata": {
    "collapsed": true
   },
   "outputs": [
    {
     "name": "stdout",
     "output_type": "stream",
     "text": [
      "2018-10-06 06:00:04.368582 66\n",
      "2018-10-13 06:00:01.991923 67\n",
      "2018-10-20 06:00:00.759477 68\n",
      "2018-10-27 06:00:02.852712 69\n",
      "2018-11-03 06:00:00.695971 70\n",
      "1963.6764413646376 1300788.568153586 True\n",
      "3205 532\n",
      "2018-11-10 06:00:00.980228 71\n",
      "2018-11-17 06:00:00.905123 72\n",
      "2018-11-24 06:00:02.285456 73\n",
      "2018-12-01 06:00:01.532738 74\n",
      "2018-12-08 06:00:00.325324 75\n",
      "1685.0734076965748 1121609.8663169704 True\n",
      "3184 3116\n",
      "2018-12-15 06:00:00.063786 76\n",
      "2018-12-22 06:00:02.720417 77\n",
      "2018-12-29 06:00:02.362349 78\n",
      "2019-01-05 06:00:02.760353 79\n",
      "2019-01-12 06:00:00.973441 80\n",
      "2388.7457653891774 1285811.9648288707 True\n",
      "3357 265\n",
      "2019-01-19 06:00:00.342367 81\n",
      "2019-01-26 06:00:01.234360 82\n",
      "2019-02-02 06:00:00.276675 83\n",
      "2019-02-09 06:00:00.019247 84\n",
      "2019-02-16 06:00:00.183178 85\n",
      "2353.7533372256034 1108276.904454349 True\n",
      "3457 465\n",
      "2019-02-23 06:00:06.856104 86\n",
      "2019-03-02 06:00:03.887752 87\n",
      "2019-03-09 06:00:00.811773 88\n",
      "2019-03-16 06:00:03.425300 89\n",
      "2019-03-23 06:00:01.245014 90\n",
      "2391.7240742439494 1070194.7590725753 True\n",
      "3199 3096\n",
      "2019-03-30 06:00:01.001686 91\n",
      "2019-04-06 06:00:01.521541 92\n",
      "2019-04-13 06:00:02.022176 93\n",
      "2019-04-20 06:00:00.791509 94\n",
      "2019-04-27 06:00:01.694751 95\n",
      "2527.0122065609025 1187113.54939185 True\n",
      "3376 483\n",
      "2019-05-04 06:00:00.987818 96\n",
      "2019-05-11 06:00:04.069707 97\n",
      "2019-05-18 06:00:01.573594 98\n",
      "2019-05-25 06:00:00.442857 99\n"
     ]
    },
    {
     "ename": "KeyError",
     "evalue": "100",
     "output_type": "error",
     "traceback": [
      "\u001b[0;31m---------------------------------------------------------------------------\u001b[0m",
      "\u001b[0;31mKeyError\u001b[0m                                  Traceback (most recent call last)",
      "\u001b[0;32m<ipython-input-42-0ede3dc904ed>\u001b[0m in \u001b[0;36m<module>\u001b[0;34m()\u001b[0m\n\u001b[1;32m      4\u001b[0m         \u001b[0mgc\u001b[0m\u001b[0;34m.\u001b[0m\u001b[0mclear_charging_info\u001b[0m\u001b[0;34m(\u001b[0m\u001b[0;34m)\u001b[0m\u001b[0;34m\u001b[0m\u001b[0m\n\u001b[1;32m      5\u001b[0m         \u001b[0mgc\u001b[0m\u001b[0;34m.\u001b[0m\u001b[0mend_time\u001b[0m \u001b[0;34m=\u001b[0m \u001b[0mgc\u001b[0m\u001b[0;34m.\u001b[0m\u001b[0mend_time\u001b[0m \u001b[0;34m+\u001b[0m \u001b[0mcycle_time\u001b[0m\u001b[0;34m\u001b[0m\u001b[0m\n\u001b[0;32m----> 6\u001b[0;31m         \u001b[0mgc\u001b[0m\u001b[0;34m.\u001b[0m\u001b[0mclockAdvance\u001b[0m\u001b[0;34m(\u001b[0m\u001b[0;34m)\u001b[0m\u001b[0;34m\u001b[0m\u001b[0m\n\u001b[0m\u001b[1;32m      7\u001b[0m     \u001b[0;31m#performance.append(gc.week_out_of_battery_duration[5*(iteration+1)-1])\u001b[0m\u001b[0;34m\u001b[0m\u001b[0;34m\u001b[0m\u001b[0m\n\u001b[1;32m      8\u001b[0m     \u001b[0me_station_SOC\u001b[0m \u001b[0;34m=\u001b[0m \u001b[0;34m{\u001b[0m\u001b[0;34m}\u001b[0m\u001b[0;34m\u001b[0m\u001b[0m\n",
      "\u001b[0;32m~/Desktop/ebike_simulation_of_CitiBike-master/simulation_record_charging_amount_751.py\u001b[0m in \u001b[0;36mclockAdvance\u001b[0;34m(self)\u001b[0m\n\u001b[1;32m    246\u001b[0m             \u001b[0;32mif\u001b[0m \u001b[0;34m(\u001b[0m\u001b[0mself\u001b[0m\u001b[0;34m.\u001b[0m\u001b[0mt\u001b[0m\u001b[0;34m-\u001b[0m \u001b[0mself\u001b[0m\u001b[0;34m.\u001b[0m\u001b[0mstart_time\u001b[0m\u001b[0;34m)\u001b[0m\u001b[0;34m.\u001b[0m\u001b[0mdays\u001b[0m \u001b[0;34m%\u001b[0m \u001b[0;36m7\u001b[0m\u001b[0;34m==\u001b[0m\u001b[0;36m0\u001b[0m\u001b[0;34m:\u001b[0m\u001b[0;34m\u001b[0m\u001b[0m\n\u001b[1;32m    247\u001b[0m                 \u001b[0mself\u001b[0m\u001b[0;34m.\u001b[0m\u001b[0mweek\u001b[0m \u001b[0;34m=\u001b[0m \u001b[0;34m(\u001b[0m\u001b[0;34m(\u001b[0m\u001b[0mself\u001b[0m\u001b[0;34m.\u001b[0m\u001b[0mt\u001b[0m\u001b[0;34m-\u001b[0m \u001b[0mself\u001b[0m\u001b[0;34m.\u001b[0m\u001b[0mstart_time\u001b[0m\u001b[0;34m)\u001b[0m\u001b[0;34m.\u001b[0m\u001b[0mdays\u001b[0m \u001b[0;34m//\u001b[0m \u001b[0;36m7\u001b[0m\u001b[0;34m)\u001b[0m\u001b[0;34m\u001b[0m\u001b[0m\n\u001b[0;32m--> 248\u001b[0;31m                 \u001b[0;32mif\u001b[0m \u001b[0mself\u001b[0m\u001b[0;34m.\u001b[0m\u001b[0mweeks\u001b[0m\u001b[0;34m[\u001b[0m\u001b[0mself\u001b[0m\u001b[0;34m.\u001b[0m\u001b[0mweek\u001b[0m\u001b[0;34m]\u001b[0m\u001b[0;34m==\u001b[0m\u001b[0;32mFalse\u001b[0m\u001b[0;34m:\u001b[0m\u001b[0;34m\u001b[0m\u001b[0m\n\u001b[0m\u001b[1;32m    249\u001b[0m                     \u001b[0;31m#print((self.t- self.start_time).days)\u001b[0m\u001b[0;34m\u001b[0m\u001b[0;34m\u001b[0m\u001b[0m\n\u001b[1;32m    250\u001b[0m                     \u001b[0mprint\u001b[0m\u001b[0;34m(\u001b[0m\u001b[0mself\u001b[0m\u001b[0;34m.\u001b[0m\u001b[0mt\u001b[0m\u001b[0;34m,\u001b[0m\u001b[0mself\u001b[0m\u001b[0;34m.\u001b[0m\u001b[0mweek\u001b[0m\u001b[0;34m)\u001b[0m\u001b[0;34m\u001b[0m\u001b[0m\n",
      "\u001b[0;31mKeyError\u001b[0m: 100"
     ]
    }
   ],
   "source": [
    "#10 swaps\n",
    "for iteration in range(10):\n",
    "    for i in range(5):\n",
    "        gc.clear_charging_info()\n",
    "        gc.end_time = gc.end_time + cycle_time\n",
    "        gc.clockAdvance()\n",
    "    #performance.append(gc.week_out_of_battery_duration[5*(iteration+1)-1])\n",
    "    e_station_SOC = {}\n",
    "    station_SOC = {}\n",
    "    for sta in gc.stations.keys():\n",
    "        if gc.stations[sta].edock > 0:\n",
    "            e_station_SOC[sta] = gc.stations[sta].charging_amount\n",
    "        else:\n",
    "            station_SOC[sta] = gc.stations[sta].charging_amount\n",
    "    #est_gradient.append(dict(e_station_SOC))\n",
    "    #st_gradient.append(dict(station_SOC))\n",
    "    sorted_e_station_SOC = sorted(e_station_SOC.items(),key=lambda kv: kv[1],reverse=False)\n",
    "    sorted_station_SOC = sorted(station_SOC.items(),key=lambda kv: kv[1],reverse=True)\n",
    "    print (str(sorted_e_station_SOC[0][1]),str(sorted_station_SOC[0][1]),str(sorted_e_station_SOC[0][1]<sorted_station_SOC[0][1]))\n",
    "    estations.remove(sorted_e_station_SOC[0][0])\n",
    "    estations.append(sorted_station_SOC[0][0])\n",
    "    print(str(sorted_e_station_SOC[0][0]),str(sorted_station_SOC[0][0]))\n",
    "    for station in initial_stations.keys():\n",
    "        gc.stations[station].edock = 0\n",
    "    for station in estations:\n",
    "        gc.stations[station].edock = initial_stations[station]['ecap']   \n",
    "print(estations)"
   ]
  },
  {
   "cell_type": "code",
   "execution_count": 43,
   "metadata": {},
   "outputs": [],
   "source": [
    "length = len(gc.week_out_of_battery_duration.keys())"
   ]
  },
  {
   "cell_type": "code",
   "execution_count": 44,
   "metadata": {
    "collapsed": true
   },
   "outputs": [
    {
     "data": {
      "text/plain": [
       "[0,\n",
       " 262,\n",
       " 436,\n",
       " 634,\n",
       " 864,\n",
       " 650,\n",
       " 1145,\n",
       " 1248,\n",
       " 1162,\n",
       " 1158,\n",
       " 1185,\n",
       " 1239,\n",
       " 1328,\n",
       " 1544,\n",
       " 1401,\n",
       " 1489,\n",
       " 1468,\n",
       " 1289,\n",
       " 1374,\n",
       " 1364,\n",
       " 1287,\n",
       " 1166,\n",
       " 1356,\n",
       " 1071,\n",
       " 999,\n",
       " 1098,\n",
       " 1080,\n",
       " 1078,\n",
       " 907,\n",
       " 1013,\n",
       " 1109,\n",
       " 1001,\n",
       " 1014,\n",
       " 1012,\n",
       " 1000,\n",
       " 1106,\n",
       " 929,\n",
       " 941,\n",
       " 896,\n",
       " 831,\n",
       " 841,\n",
       " 858,\n",
       " 948,\n",
       " 1204,\n",
       " 1044,\n",
       " 1181,\n",
       " 1095,\n",
       " 877,\n",
       " 904,\n",
       " 782,\n",
       " 1027,\n",
       " 813,\n",
       " 921,\n",
       " 837,\n",
       " 873,\n",
       " 814,\n",
       " 822,\n",
       " 1047,\n",
       " 879,\n",
       " 838,\n",
       " 856,\n",
       " 772,\n",
       " 771,\n",
       " 831,\n",
       " 930,\n",
       " 806,\n",
       " 646,\n",
       " 864,\n",
       " 747,\n",
       " 807,\n",
       " 766,\n",
       " 781,\n",
       " 748,\n",
       " 864,\n",
       " 888,\n",
       " 875,\n",
       " 893,\n",
       " 931,\n",
       " 883,\n",
       " 892,\n",
       " 810,\n",
       " 1074,\n",
       " 795,\n",
       " 901,\n",
       " 1037,\n",
       " 900,\n",
       " 824,\n",
       " 899,\n",
       " 773,\n",
       " 792,\n",
       " 808,\n",
       " 975,\n",
       " 1019,\n",
       " 996,\n",
       " 985,\n",
       " 951,\n",
       " 913,\n",
       " 948,\n",
       " 861,\n",
       " 905]"
      ]
     },
     "execution_count": 44,
     "metadata": {},
     "output_type": "execute_result"
    }
   ],
   "source": [
    "events = []\n",
    "i = 1\n",
    "while (i < length):\n",
    "    events.append(gc.week_out_of_battery[i])\n",
    "    i += 1\n",
    "events"
   ]
  },
  {
   "cell_type": "code",
   "execution_count": 64,
   "metadata": {},
   "outputs": [
    {
     "data": {
      "text/plain": [
       "Text(0,0.5,'out of battery events')"
      ]
     },
     "execution_count": 64,
     "metadata": {},
     "output_type": "execute_result"
    },
    {
     "data": {
      "image/png": "[encoded data removed]",
      "text/plain": [
       "<Figure size 432x288 with 1 Axes>"
      ]
     },
     "metadata": {},
     "output_type": "display_data"
    }
   ],
   "source": [
    "plt.plot(events)\n",
    "plt.xlabel(\"week\")\n",
    "plt.ylabel(\"out of battery events\")"
   ]
  },
  {
   "cell_type": "code",
   "execution_count": 46,
   "metadata": {},
   "outputs": [
    {
     "data": {
      "text/plain": [
       "101"
      ]
     },
     "execution_count": 46,
     "metadata": {},
     "output_type": "execute_result"
    }
   ],
   "source": [
    "length"
   ]
  },
  {
   "cell_type": "code",
   "execution_count": 47,
   "metadata": {},
   "outputs": [
    {
     "data": {
      "text/plain": [
       "dict_keys([0, 1, 2, 3, 4, 5, 6, 7, 8, 9, 10, 11, 12, 13, 14, 15, 16, 17, 18, 19, 20, 21, 22, 23, 24, 25, 26, 27, 28, 29, 30, 31, 32, 33, 34, 35, 36, 37, 38, 39, 40, 41, 42, 43, 44, 45, 46, 47, 48, 49, 50, 51, 52, 53, 54, 55, 56, 57, 58, 59, 60, 61, 62, 63, 64, 65, 66, 67, 68, 69, 70, 71, 72, 73, 74, 75, 76, 77, 78, 79, 80, 81, 82, 83, 84, 85, 86, 87, 88, 89, 90, 91, 92, 93, 94, 95, 96, 97, 98, 99, 100])"
      ]
     },
     "execution_count": 47,
     "metadata": {},
     "output_type": "execute_result"
    }
   ],
   "source": [
    "gc.week_out_of_battery_duration.keys()"
   ]
  },
  {
   "cell_type": "code",
   "execution_count": 48,
   "metadata": {},
   "outputs": [],
   "source": [
    "file = open('10swap.pickle', 'rb')\n",
    "gc1 = pickle.load(file)\n",
    "file.close()"
   ]
  },
  {
   "cell_type": "code",
   "execution_count": 49,
   "metadata": {},
   "outputs": [
    {
     "data": {
      "text/plain": [
       "dict_keys([0, 1, 2, 3, 4, 5, 6, 7, 8, 9, 10, 11, 12, 13, 14, 15, 16, 17, 18, 19, 20, 21, 22, 23, 24, 25, 26, 27, 28, 29, 30, 31, 32, 33, 34, 35, 36, 37, 38, 39, 40, 41, 42, 43, 44, 45, 46, 47, 48, 49, 50, 51, 52, 53, 54, 55, 56, 57, 58, 59, 60, 61, 62, 63, 64, 65, 66])"
      ]
     },
     "execution_count": 49,
     "metadata": {},
     "output_type": "execute_result"
    }
   ],
   "source": [
    "gc1.week_out_of_battery_duration.keys()"
   ]
  },
  {
   "cell_type": "code",
   "execution_count": 50,
   "metadata": {},
   "outputs": [],
   "source": [
    "file = open('local_search15weeks.pkl', 'rb')\n",
    "gc2 = pickle.load(file)\n",
    "file.close()"
   ]
  },
  {
   "cell_type": "code",
   "execution_count": 52,
   "metadata": {
    "collapsed": true
   },
   "outputs": [
    {
     "data": {
      "text/plain": [
       "{0: 0,\n",
       " 1: 0,\n",
       " 2: 732820.8054747904,\n",
       " 3: 1614685.739066584,\n",
       " 4: 1386921.9546737545,\n",
       " 5: 1757461.4791895049,\n",
       " 6: 1903011.4640192548,\n",
       " 7: 2558332.189092311,\n",
       " 8: 2569871.176558107,\n",
       " 9: 1791960.8713904135,\n",
       " 10: 4075902.9088559747,\n",
       " 11: 2616605.771537628,\n",
       " 12: 2413929.846376952,\n",
       " 13: 2031974.301211942,\n",
       " 14: 2231159.548214875,\n",
       " 15: 1992293.6800468825,\n",
       " 16: 1873642.8462564535}"
      ]
     },
     "execution_count": 52,
     "metadata": {},
     "output_type": "execute_result"
    }
   ],
   "source": [
    "gc2.week_out_of_battery_duration"
   ]
  },
  {
   "cell_type": "code",
   "execution_count": 57,
   "metadata": {},
   "outputs": [],
   "source": [
    "index = [1,2,3,4,5,6,7,8,9,10,11,12,13,14,15,20,25,30,35,40,45,50,55,60,65,70,75,80,85,90,95,100]"
   ]
  },
  {
   "cell_type": "code",
   "execution_count": 59,
   "metadata": {
    "collapsed": true
   },
   "outputs": [
    {
     "data": {
      "text/plain": [
       "[0,\n",
       " 262,\n",
       " 436,\n",
       " 634,\n",
       " 864,\n",
       " 650,\n",
       " 1145,\n",
       " 1248,\n",
       " 1162,\n",
       " 1158,\n",
       " 1185,\n",
       " 1239,\n",
       " 1328,\n",
       " 1544,\n",
       " 1401,\n",
       " 1364,\n",
       " 999,\n",
       " 1013,\n",
       " 1000,\n",
       " 831,\n",
       " 1044,\n",
       " 782,\n",
       " 873,\n",
       " 838,\n",
       " 930,\n",
       " 807,\n",
       " 888,\n",
       " 892,\n",
       " 1037,\n",
       " 792,\n",
       " 985,\n",
       " 905]"
      ]
     },
     "execution_count": 59,
     "metadata": {},
     "output_type": "execute_result"
    }
   ],
   "source": [
    "y = []\n",
    "for i in index:\n",
    "    y.append(gc.week_out_of_battery[i])\n",
    "y"
   ]
  },
  {
   "cell_type": "code",
   "execution_count": 63,
   "metadata": {},
   "outputs": [
    {
     "data": {
      "text/plain": [
       "Text(0,0.5,'out of battery events')"
      ]
     },
     "execution_count": 63,
     "metadata": {},
     "output_type": "execute_result"
    },
    {
     "data": {
      "image/png": "[encoded data removed]",
      "text/plain": [
       "<Figure size 432x288 with 1 Axes>"
      ]
     },
     "metadata": {},
     "output_type": "display_data"
    }
   ],
   "source": [
    "plt.plot(index, y)\n",
    "plt.xlabel(\"week\")\n",
    "plt.ylabel(\"out of battery events\")"
   ]
  },
  {
   "cell_type": "code",
   "execution_count": 68,
   "metadata": {},
   "outputs": [],
   "source": [
    "afile = open('100_weeks', 'wb')\n",
    "pickle.dump(gc, afile)\n",
    "afile.close()"
   ]
  },
  {
   "cell_type": "code",
   "execution_count": 62,
   "metadata": {},
   "outputs": [
    {
     "data": {
      "text/plain": [
       "782"
      ]
     },
     "execution_count": 62,
     "metadata": {},
     "output_type": "execute_result"
    }
   ],
   "source": [
    "min(y[15:])"
   ]
  },
  {
   "cell_type": "code",
   "execution_count": 65,
   "metadata": {},
   "outputs": [],
   "source": [
    "swap_six_pairs = [3254, 3267, 3199, 3202, 3276, 3192, 3186, 3183, 237, 3072, 3178, 3290, 491, 3285, 3314, 411, 3165, 3205, 383, 527, 3357, 347, 474, 484, 504, 3244, 2021, 3282, 528, 529, 2008, 531, 518, 3383, 3427, 3443, 3137, 3139, 3156, 426, 3436, 3372, 3376, 3184, 363, 3134, 3163, 3283, 3286, 444, 472, 3293, 3295, 281, 514, 402, 3132, 285, 3164, 435, 423, 486, 3173, 3224, 537, 3056, 365, 252, 3146, 359, 387, 388, 405, 410, 3203, 152, 284, 434, 3129, 3151, 3323, 328, 490, 280, 540, 146, 3349, 3366, 3367, 3162, 3336, 3167, 503, 507, 315, 3150, 319, 229, 238, 442, 3226, 327, 446, 479, 499, 508, 513, 316, 335, 3145, 173, 3258, 127, 305, 309, 223, 356, 3320, 128, 296, 433, 3306, 3307, 3308, 3310, 2000, 3312, 3315, 2002, 3318, 2003, 3321, 3328, 3329, 3331, 2006, 432, 3297, 3298, 3346, 3303, 3351, 324, 3304, 3358, 3360, 3361, 3362, 83, 3311, 340, 217, 422, 427, 430, 336, 539, 545, 3319, 546, 428, 523, 251, 397, 3148, 3288, 3158, 419, 3409, 3294, 332, 249, 396, 3141, 3142, 3292, 3263, 536, 3016, 3289, 3259, 3260, 395, 3428, 3136, 3429, 3434, 3435, 3373, 3438, 3378, 3440, 3423, 3447, 3449, 3453, 3382, 3454, 3457, 3459, 3461, 3462, 3463, 3464, 3466, 519, 497, 459, 358, 3002, 368, 3256, 151, 293, 382, 168, 3255, 505, 477, 3374, 379, 457, 509, 458, 462] "
   ]
  },
  {
   "cell_type": "code",
   "execution_count": 75,
   "metadata": {},
   "outputs": [],
   "source": [
    "start_time = time(2017,7,1,hour= 6)\n",
    "end_time=start_time+ td(weeks=50)"
   ]
  },
  {
   "cell_type": "code",
   "execution_count": 76,
   "metadata": {},
   "outputs": [],
   "source": [
    "initial_stations=eval(open((\"steady_states_751/steady_ebikes_initial_0.5.txt\")).read())\n",
    "for station in initial_stations.keys():\n",
    "    if station in swap_six_pairs:\n",
    "        initial_stations[station]['edock'] = initial_stations[station]['ecap']\n",
    "    else:\n",
    "        initial_stations[station]['edock'] = 0"
   ]
  },
  {
   "cell_type": "code",
   "execution_count": 77,
   "metadata": {
    "collapsed": true
   },
   "outputs": [
    {
     "name": "stdout",
     "output_type": "stream",
     "text": [
      "the total number of ebikes: 11051\n",
      "the total number of regular bikes: 0\n",
      "2017-07-01 06:00:01.005679 0\n",
      "2017-07-08 06:00:00.561339 1\n",
      "2017-07-15 06:00:03.708410 2\n",
      "2017-07-22 06:00:01.464095 3\n",
      "2017-07-29 06:00:03.261424 4\n",
      "2017-08-05 06:00:03.453529 5\n",
      "2017-08-12 06:00:00.227695 6\n",
      "2017-08-19 06:00:01.029477 7\n",
      "2017-08-26 06:00:02.139948 8\n",
      "2017-09-02 06:00:00.235947 9\n",
      "2017-09-09 06:00:01.687714 10\n",
      "2017-09-16 06:00:00.590313 11\n",
      "2017-09-23 06:00:00.045832 12\n",
      "2017-09-30 06:00:03.014556 13\n",
      "2017-10-07 06:00:00.963840 14\n",
      "2017-10-14 06:00:00.079123 15\n",
      "2017-10-21 06:00:00.573688 16\n",
      "2017-10-28 06:00:00.645244 17\n",
      "2017-11-04 06:00:01.758281 18\n",
      "2017-11-11 06:00:01.461482 19\n",
      "2017-11-18 06:00:02.933159 20\n",
      "2017-11-25 06:00:03.692421 21\n",
      "2017-12-02 06:00:00.035459 22\n",
      "2017-12-09 06:00:00.157036 23\n",
      "2017-12-16 06:00:00.094356 24\n",
      "2017-12-23 06:00:02.346965 25\n",
      "2017-12-30 06:00:01.123948 26\n",
      "2018-01-06 06:00:03.622757 27\n",
      "2018-01-13 06:00:00.432012 28\n",
      "2018-01-20 06:00:02.275532 29\n",
      "2018-01-27 06:00:04.682791 30\n",
      "2018-02-03 06:00:01.730980 31\n",
      "2018-02-10 06:00:00.372633 32\n",
      "2018-02-17 06:00:00.988246 33\n",
      "2018-02-24 06:00:01.810697 34\n",
      "2018-03-03 06:00:03.007638 35\n",
      "2018-03-10 06:00:01.502657 36\n",
      "2018-03-17 06:00:00.699822 37\n",
      "2018-03-24 06:00:00.189144 38\n",
      "2018-03-31 06:00:00.414091 39\n",
      "2018-04-07 06:00:04.207251 40\n",
      "2018-04-14 06:00:06.902706 41\n",
      "2018-04-21 06:00:02.242746 42\n",
      "2018-04-28 06:00:01.317510 43\n",
      "2018-05-05 06:00:00.303549 44\n",
      "2018-05-12 06:00:02.032749 45\n",
      "2018-05-19 06:00:02.333280 46\n",
      "2018-05-26 06:00:00.322736 47\n",
      "2018-06-02 06:00:00.408649 48\n",
      "2018-06-09 06:00:01.492251 49\n",
      "2018-06-16 06:00:00.262659 50\n"
     ]
    }
   ],
   "source": [
    "gc1=simulation_record_charging_amount_751_1.GlobalClock(start_time,end_time,initial_stations)\n",
    "gc1.clockAdvance() "
   ]
  },
  {
   "cell_type": "code",
   "execution_count": 71,
   "metadata": {
    "collapsed": true
   },
   "outputs": [
    {
     "data": {
      "text/plain": [
       "{0: 0,\n",
       " 1: 0,\n",
       " 2: 732820.8054747904,\n",
       " 3: 1614685.739066584,\n",
       " 4: 1386921.9546737545,\n",
       " 5: 1757461.4791895049,\n",
       " 6: 1908263.628324314,\n",
       " 7: 2562294.070164594,\n",
       " 8: 2569868.988722531,\n",
       " 9: 1791636.1278869137,\n",
       " 10: 4075902.908855967,\n",
       " 11: 2617780.120129157,\n",
       " 12: 2415049.91974698,\n",
       " 13: 2031897.8384866267,\n",
       " 14: 2230886.8176450245,\n",
       " 15: 1992226.7698854916,\n",
       " 16: 1873642.8462564535,\n",
       " 17: 2145439.1159321293,\n",
       " 18: 3394353.358812079,\n",
       " 19: 2591123.1885061935,\n",
       " 20: 4975132.72375346,\n",
       " 21: 3692582.0174183995,\n",
       " 22: 3260446.891628824,\n",
       " 23: 2579963.485807419,\n",
       " 24: 1626867.5436395854,\n",
       " 25: 2090388.8416403309,\n",
       " 26: 2465796.454964258,\n",
       " 27: 2229633.2178659514,\n",
       " 28: 1593501.3094696552,\n",
       " 29: 1233322.2366469651,\n",
       " 30: 2063999.4384459853,\n",
       " 31: 4436920.364381969,\n",
       " 32: 1619466.7394911647,\n",
       " 33: 2936315.2389176786,\n",
       " 34: 1551498.9465539455,\n",
       " 35: 1864072.250748679,\n",
       " 36: 2464171.4853966385,\n",
       " 37: 2893476.0030902773,\n",
       " 38: 2309543.5784630924,\n",
       " 39: 1642898.4604717195,\n",
       " 40: 1695941.1193241775,\n",
       " 41: 3097492.2098169625,\n",
       " 42: 1558972.3184905946,\n",
       " 43: 3545654.7350037694,\n",
       " 44: 1926017.6835122854,\n",
       " 45: 3457313.2267710418,\n",
       " 46: 2796230.961872235,\n",
       " 47: 3382245.2974028587,\n",
       " 48: 4269310.751011014,\n",
       " 49: 3132762.5095471144,\n",
       " 50: 3147557.539887637,\n",
       " 51: 3244171.797239363,\n",
       " 52: 1542468.5040407032,\n",
       " 53: 3571187.13180317,\n",
       " 54: 1997574.2311772108,\n",
       " 55: 3571905.6936293095,\n",
       " 56: 2692974.4992464483,\n",
       " 57: 2071637.0357594788,\n",
       " 58: 3370267.413685173,\n",
       " 59: 2217487.431155324,\n",
       " 60: 2241766.8411031067,\n",
       " 61: 2468561.3763288856,\n",
       " 62: 1399163.223617524,\n",
       " 63: 3023375.5695436,\n",
       " 64: 2873524.418825239,\n",
       " 65: 1863236.1449832022,\n",
       " 66: 2497129.7483742833,\n",
       " 67: 2591163.562843412,\n",
       " 68: 2182053.965089828,\n",
       " 69: 2090123.2756946087,\n",
       " 70: 1632477.563962251,\n",
       " 71: 1413124.9474562109,\n",
       " 72: 2324390.378841996,\n",
       " 73: 2314196.8917114735,\n",
       " 74: 2509495.11772424,\n",
       " 75: 3719158.4267148376,\n",
       " 76: 2662232.611862302,\n",
       " 77: 3486743.897496283,\n",
       " 78: 2075856.7270074189,\n",
       " 79: 2844734.2362723947,\n",
       " 80: 2685850.1033652127,\n",
       " 81: 3107418.7992019653,\n",
       " 82: 2498761.3362006247,\n",
       " 83: 3126981.0609310865,\n",
       " 84: 4509665.769290596,\n",
       " 85: 2419486.627720922,\n",
       " 86: 2895168.9751642942,\n",
       " 87: 4098503.326058179,\n",
       " 88: 2140797.8184894323,\n",
       " 89: 4491368.252730608,\n",
       " 90: 3646695.6356027722,\n",
       " 91: 3912750.2050492167,\n",
       " 92: 3246320.4299900234,\n",
       " 93: 3267710.215040922,\n",
       " 94: 2561811.3587674797,\n",
       " 95: 4566961.851050347,\n",
       " 96: 2950740.1986851096,\n",
       " 97: 3066341.969275415,\n",
       " 98: 3154467.392134905,\n",
       " 99: 3639676.8167878687,\n",
       " 100: 2246198.0591805875}"
      ]
     },
     "execution_count": 71,
     "metadata": {},
     "output_type": "execute_result"
    }
   ],
   "source": [
    "gc.week_out_of_battery_duration"
   ]
  },
  {
   "cell_type": "code",
   "execution_count": 72,
   "metadata": {
    "collapsed": true
   },
   "outputs": [
    {
     "data": {
      "text/plain": [
       "[0,\n",
       " 732820.8054747904,\n",
       " 1614685.739066584,\n",
       " 1386921.9546737545,\n",
       " 1757461.4791895049,\n",
       " 1908263.628324314,\n",
       " 2562294.070164594,\n",
       " 2569868.988722531,\n",
       " 1791636.1278869137,\n",
       " 4075902.908855967,\n",
       " 2617780.120129157,\n",
       " 2415049.91974698,\n",
       " 2031897.8384866267,\n",
       " 2230886.8176450245,\n",
       " 1992226.7698854916,\n",
       " 1873642.8462564535,\n",
       " 2145439.1159321293,\n",
       " 3394353.358812079,\n",
       " 2591123.1885061935,\n",
       " 4975132.72375346,\n",
       " 3692582.0174183995,\n",
       " 3260446.891628824,\n",
       " 2579963.485807419,\n",
       " 1626867.5436395854,\n",
       " 2090388.8416403309,\n",
       " 2465796.454964258,\n",
       " 2229633.2178659514,\n",
       " 1593501.3094696552,\n",
       " 1233322.2366469651,\n",
       " 2063999.4384459853,\n",
       " 4436920.364381969,\n",
       " 1619466.7394911647,\n",
       " 2936315.2389176786,\n",
       " 1551498.9465539455,\n",
       " 1864072.250748679,\n",
       " 2464171.4853966385,\n",
       " 2893476.0030902773,\n",
       " 2309543.5784630924,\n",
       " 1642898.4604717195,\n",
       " 1695941.1193241775,\n",
       " 3097492.2098169625,\n",
       " 1558972.3184905946,\n",
       " 3545654.7350037694,\n",
       " 1926017.6835122854,\n",
       " 3457313.2267710418,\n",
       " 2796230.961872235,\n",
       " 3382245.2974028587,\n",
       " 4269310.751011014,\n",
       " 3132762.5095471144,\n",
       " 3147557.539887637,\n",
       " 3244171.797239363,\n",
       " 1542468.5040407032,\n",
       " 3571187.13180317,\n",
       " 1997574.2311772108,\n",
       " 3571905.6936293095,\n",
       " 2692974.4992464483,\n",
       " 2071637.0357594788,\n",
       " 3370267.413685173,\n",
       " 2217487.431155324,\n",
       " 2241766.8411031067,\n",
       " 2468561.3763288856,\n",
       " 1399163.223617524,\n",
       " 3023375.5695436,\n",
       " 2873524.418825239,\n",
       " 1863236.1449832022,\n",
       " 2497129.7483742833,\n",
       " 2591163.562843412,\n",
       " 2182053.965089828,\n",
       " 2090123.2756946087,\n",
       " 1632477.563962251,\n",
       " 1413124.9474562109,\n",
       " 2324390.378841996,\n",
       " 2314196.8917114735,\n",
       " 2509495.11772424,\n",
       " 3719158.4267148376,\n",
       " 2662232.611862302,\n",
       " 3486743.897496283,\n",
       " 2075856.7270074189,\n",
       " 2844734.2362723947,\n",
       " 2685850.1033652127,\n",
       " 3107418.7992019653,\n",
       " 2498761.3362006247,\n",
       " 3126981.0609310865,\n",
       " 4509665.769290596,\n",
       " 2419486.627720922,\n",
       " 2895168.9751642942,\n",
       " 4098503.326058179,\n",
       " 2140797.8184894323,\n",
       " 4491368.252730608,\n",
       " 3646695.6356027722,\n",
       " 3912750.2050492167,\n",
       " 3246320.4299900234,\n",
       " 3267710.215040922,\n",
       " 2561811.3587674797,\n",
       " 4566961.851050347,\n",
       " 2950740.1986851096,\n",
       " 3066341.969275415,\n",
       " 3154467.392134905,\n",
       " 3639676.8167878687,\n",
       " 2246198.0591805875]"
      ]
     },
     "execution_count": 72,
     "metadata": {},
     "output_type": "execute_result"
    }
   ],
   "source": [
    "length = len(gc.week_out_of_battery_duration.keys())\n",
    "durations = []\n",
    "i = 1\n",
    "while (i < length):\n",
    "    durations.append(gc.week_out_of_battery_duration[i])\n",
    "    i += 1\n",
    "durations"
   ]
  },
  {
   "cell_type": "code",
   "execution_count": 74,
   "metadata": {},
   "outputs": [
    {
     "data": {
      "text/plain": [
       "Text(0,0.5,'out of battery durations')"
      ]
     },
     "execution_count": 74,
     "metadata": {},
     "output_type": "execute_result"
    },
    {
     "data": {
      "image/png": "[encoded data removed]",
      "text/plain": [
       "<Figure size 432x288 with 1 Axes>"
      ]
     },
     "metadata": {},
     "output_type": "display_data"
    }
   ],
   "source": [
    "plt.plot(durations)\n",
    "plt.xlabel(\"week\")\n",
    "plt.ylabel(\"out of battery durations\")"
   ]
  },
  {
   "cell_type": "code",
   "execution_count": 78,
   "metadata": {
    "collapsed": true
   },
   "outputs": [
    {
     "data": {
      "text/plain": [
       "{0: 0,\n",
       " 1: 0,\n",
       " 2: 346,\n",
       " 3: 484,\n",
       " 4: 411,\n",
       " 5: 721,\n",
       " 6: 486,\n",
       " 7: 949,\n",
       " 8: 924,\n",
       " 9: 922,\n",
       " 10: 793,\n",
       " 11: 814,\n",
       " 12: 852,\n",
       " 13: 884,\n",
       " 14: 893,\n",
       " 15: 965,\n",
       " 16: 835,\n",
       " 17: 916,\n",
       " 18: 789,\n",
       " 19: 948,\n",
       " 20: 999,\n",
       " 21: 855,\n",
       " 22: 957,\n",
       " 23: 1047,\n",
       " 24: 933,\n",
       " 25: 827,\n",
       " 26: 710,\n",
       " 27: 797,\n",
       " 28: 994,\n",
       " 29: 790,\n",
       " 30: 960,\n",
       " 31: 1063,\n",
       " 32: 1052,\n",
       " 33: 870,\n",
       " 34: 983,\n",
       " 35: 871,\n",
       " 36: 882,\n",
       " 37: 1014,\n",
       " 38: 919,\n",
       " 39: 841,\n",
       " 40: 822,\n",
       " 41: 676,\n",
       " 42: 731,\n",
       " 43: 1023,\n",
       " 44: 1184,\n",
       " 45: 980,\n",
       " 46: 999,\n",
       " 47: 1121,\n",
       " 48: 1016,\n",
       " 49: 909,\n",
       " 50: 924,\n",
       " 51: 957}"
      ]
     },
     "execution_count": 78,
     "metadata": {},
     "output_type": "execute_result"
    }
   ],
   "source": [
    "gc1.week_out_of_battery"
   ]
  },
  {
   "cell_type": "code",
   "execution_count": 85,
   "metadata": {
    "collapsed": true
   },
   "outputs": [
    {
     "data": {
      "text/plain": [
       "[0,\n",
       " 262,\n",
       " 436,\n",
       " 634,\n",
       " 864,\n",
       " 650,\n",
       " 1145,\n",
       " 1248,\n",
       " 1162,\n",
       " 1158,\n",
       " 1185,\n",
       " 1239,\n",
       " 1328,\n",
       " 1544,\n",
       " 1401,\n",
       " 1489,\n",
       " 1468,\n",
       " 1289,\n",
       " 1374,\n",
       " 1364,\n",
       " 1287,\n",
       " 1166,\n",
       " 1356,\n",
       " 1071,\n",
       " 999,\n",
       " 1098,\n",
       " 1080,\n",
       " 1078,\n",
       " 907,\n",
       " 1013,\n",
       " 1109,\n",
       " 1001,\n",
       " 1014,\n",
       " 1012,\n",
       " 1000,\n",
       " 1106,\n",
       " 929,\n",
       " 941,\n",
       " 896,\n",
       " 831,\n",
       " 841,\n",
       " 858,\n",
       " 948,\n",
       " 1204,\n",
       " 1044,\n",
       " 1181,\n",
       " 1095,\n",
       " 877,\n",
       " 904,\n",
       " 782,\n",
       " 1027,\n",
       " 813,\n",
       " 921,\n",
       " 837,\n",
       " 873,\n",
       " 814,\n",
       " 822,\n",
       " 1047,\n",
       " 879,\n",
       " 838,\n",
       " 856,\n",
       " 772,\n",
       " 771,\n",
       " 831,\n",
       " 930,\n",
       " 806,\n",
       " 646,\n",
       " 864,\n",
       " 747,\n",
       " 807,\n",
       " 766,\n",
       " 781,\n",
       " 748,\n",
       " 864,\n",
       " 888,\n",
       " 875,\n",
       " 893,\n",
       " 931,\n",
       " 883,\n",
       " 892,\n",
       " 810,\n",
       " 1074,\n",
       " 795,\n",
       " 901,\n",
       " 1037,\n",
       " 900,\n",
       " 824,\n",
       " 899,\n",
       " 773,\n",
       " 792,\n",
       " 808]"
      ]
     },
     "execution_count": 85,
     "metadata": {},
     "output_type": "execute_result"
    }
   ],
   "source": [
    "length = len(gc1.week_out_of_battery.keys())\n",
    "y = []\n",
    "i = 1\n",
    "while (i < length):\n",
    "    y.append(gc.week_out_of_battery[i])\n",
    "    i += 1\n",
    "y"
   ]
  },
  {
   "cell_type": "code",
   "execution_count": 96,
   "metadata": {},
   "outputs": [
    {
     "data": {
      "text/plain": [
       "877.8235294117648"
      ]
     },
     "execution_count": 96,
     "metadata": {},
     "output_type": "execute_result"
    }
   ],
   "source": [
    "sum(y[40:])/len(y[40:])"
   ]
  },
  {
   "cell_type": "code",
   "execution_count": 84,
   "metadata": {
    "collapsed": true
   },
   "outputs": [
    {
     "name": "stdout",
     "output_type": "stream",
     "text": [
      "2018-11-10 06:00:01.377056 71\n",
      "2018-11-17 06:00:00.282843 72\n",
      "2018-11-24 06:00:02.569694 73\n",
      "2018-12-01 06:00:03.304946 74\n",
      "2018-12-08 06:00:00.276584 75\n",
      "2018-12-15 06:00:00.687934 76\n",
      "2018-12-22 06:00:00.365872 77\n",
      "2018-12-29 06:00:15.677155 78\n",
      "2019-01-05 06:00:01.751123 79\n",
      "2019-01-12 06:00:00.190898 80\n",
      "2019-01-19 06:00:03.476582 81\n",
      "2019-01-26 06:00:01.209487 82\n",
      "2019-02-02 06:00:01.401392 83\n",
      "2019-02-09 06:00:01.375025 84\n",
      "2019-02-16 06:00:01.514543 85\n",
      "2019-02-23 06:00:04.174627 86\n",
      "2019-03-02 06:00:02.169998 87\n",
      "2019-03-09 06:00:00.711689 88\n",
      "2019-03-16 06:00:04.320400 89\n",
      "2019-03-23 06:00:03.057105 90\n"
     ]
    }
   ],
   "source": [
    "gc1.end_time = gc1.end_time + td(weeks = 20)\n",
    "gc1.clockAdvance() "
   ]
  },
  {
   "cell_type": "code",
   "execution_count": null,
   "metadata": {},
   "outputs": [],
   "source": []
  }
 ],
 "metadata": {
  "kernelspec": {
   "display_name": "Python 3",
   "language": "python",
   "name": "python3"
  },
  "language_info": {
   "codemirror_mode": {
    "name": "ipython",
    "version": 3
   },
   "file_extension": ".py",
   "mimetype": "text/x-python",
   "name": "python",
   "nbconvert_exporter": "python",
   "pygments_lexer": "ipython3",
   "version": "3.6.5"
  }
 },
 "nbformat": 4,
 "nbformat_minor": 2
}
